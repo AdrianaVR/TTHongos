{
 "cells": [
  {
   "cell_type": "markdown",
   "metadata": {},
   "source": [
    "# Recolección de los datos en los xml de cada imagen"
   ]
  },
  {
   "cell_type": "code",
   "execution_count": null,
   "metadata": {},
   "outputs": [],
   "source": [
    "#Importación de librerias\n",
    "import os\n",
    "import glob\n",
    "import pandas as pd\n",
    "import argparse\n",
    "import xml.etree.ElementTree as ET"
   ]
  },
  {
   "cell_type": "code",
   "execution_count": null,
   "metadata": {},
   "outputs": [],
   "source": [
    "#Función que lee el xml y extrae el nombre, coordenadas, tamaño y clase de la imagen.\n",
    "def xmltocsv(path):\n",
    "    xml_list = []\n",
    "    for xml_file in glob.glob(path + '/*.xml'):\n",
    "        tree = ET.parse(xml_file)\n",
    "        root = tree.getroot()\n",
    "        for member in root.findall('object'):\n",
    "            value = (root.find('filename').text, int(root.find('size')[0].text), int(root.find('size')[1].text),\n",
    "                    member[0].text, int(member[5][0].text), int(member[5][1].text), int(member[5][2].text), int(member[5][3].text))\n",
    "            xml_list.append(value)\n",
    "    column_name = ['filename', 'width', 'height', 'class', 'xmin', 'ymin', 'xmax', 'ymax']\n",
    "    xml_df = pd.DataFrame(xml_list, columns=column_name)\n",
    "    return xml_df"
   ]
  },
  {
   "cell_type": "code",
   "execution_count": null,
   "metadata": {},
   "outputs": [],
   "source": [
    "import os\n",
    "pathRaiz=\"/home/ady/Documentos/Datos/\"\n",
    "Especies=os.listdir(path)\n",
    "Especies.sort()\n",
    "\n",
    "for y in range(len(Especies)):\n",
    "    pathEs=path+\"/\"+Especies[y]\n",
    "    xml_df = xmltocsv(pathEs)\n",
    "    pathcsv=\"/home/ady/Escritorio/PruebaEspecies/train_labels\"+Especies[y]+\".csv\"\n",
    "    xml_df.to_csv(pathcsv, index=None)"
   ]
  }
 ],
 "metadata": {
  "kernelspec": {
   "display_name": "Python 3",
   "language": "python",
   "name": "python3"
  },
  "language_info": {
   "codemirror_mode": {
    "name": "ipython",
    "version": 3
   },
   "file_extension": ".py",
   "mimetype": "text/x-python",
   "name": "python",
   "nbconvert_exporter": "python",
   "pygments_lexer": "ipython3",
   "version": "3.5.6"
  }
 },
 "nbformat": 4,
 "nbformat_minor": 2
}
